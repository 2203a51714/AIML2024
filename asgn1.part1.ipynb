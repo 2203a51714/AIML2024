{
  "nbformat": 4,
  "nbformat_minor": 0,
  "metadata": {
    "colab": {
      "provenance": [],
      "authorship_tag": "ABX9TyOfmjH2Kfolq9VrVPGjm4k9",
      "include_colab_link": true
    },
    "kernelspec": {
      "name": "python3",
      "display_name": "Python 3"
    },
    "language_info": {
      "name": "python"
    }
  },
  "cells": [
    {
      "cell_type": "markdown",
      "metadata": {
        "id": "view-in-github",
        "colab_type": "text"
      },
      "source": [
        "<a href=\"https://colab.research.google.com/github/2203a51714/AIML2024/blob/main/asgn1.part1.ipynb\" target=\"_parent\"><img src=\"https://colab.research.google.com/assets/colab-badge.svg\" alt=\"Open In Colab\"/></a>"
      ]
    },
    {
      "cell_type": "code",
      "execution_count": null,
      "metadata": {
        "id": "8UJ1wLD_FTOt"
      },
      "outputs": [],
      "source": []
    },
    {
      "cell_type": "markdown",
      "source": [
        "Implementation of basic data structures using numpy and pandas\n"
      ],
      "metadata": {
        "id": "J0wZ4RgIFU46"
      }
    },
    {
      "cell_type": "code",
      "source": [
        "#creation list using array\n",
        "import numpy as np\n",
        "lst1=[10,11,12,13,114,15]\n",
        "print('The list is ',lst1)"
      ],
      "metadata": {
        "colab": {
          "base_uri": "https://localhost:8080/"
        },
        "id": "pMUdAVj4FYqo",
        "outputId": "0e590927-c1d7-406e-81ac-89a71d85389a"
      },
      "execution_count": 2,
      "outputs": [
        {
          "output_type": "stream",
          "name": "stdout",
          "text": [
            "The list is  [10, 11, 12, 13, 114, 15]\n"
          ]
        }
      ]
    },
    {
      "cell_type": "code",
      "source": [
        "#Creation of array using numpy\n",
        "import numpy as np\n",
        "lst1=[10,111,12,13,14,156]\n",
        "arr1=np.array(lst1)\n",
        "arr2=np.array([1,2,3,4,5,6])\n",
        "print('The first array is ',arr1)\n",
        "print('The second array is ',arr2)"
      ],
      "metadata": {
        "colab": {
          "base_uri": "https://localhost:8080/"
        },
        "id": "A-s3FsmBFk7A",
        "outputId": "c1d4481c-647c-4f0b-ef14-660318f672fe"
      },
      "execution_count": 3,
      "outputs": [
        {
          "output_type": "stream",
          "name": "stdout",
          "text": [
            "The first array is  [ 10 111  12  13  14 156]\n",
            "The second array is  [1 2 3 4 5 6]\n"
          ]
        }
      ]
    },
    {
      "cell_type": "code",
      "source": [
        "#Verification of type of list and array\n",
        "import numpy as np\n",
        "lst1=[12,13,1,4,15,16]\n",
        "array=np.array(lst1)\n",
        "print(type(lst1))\n",
        "print(type(array))"
      ],
      "metadata": {
        "colab": {
          "base_uri": "https://localhost:8080/"
        },
        "id": "LFQjw7iPFuBo",
        "outputId": "47d4ec2a-a56c-4d17-ec75-93ad64c2c0aa"
      },
      "execution_count": 4,
      "outputs": [
        {
          "output_type": "stream",
          "name": "stdout",
          "text": [
            "<class 'list'>\n",
            "<class 'numpy.ndarray'>\n"
          ]
        }
      ]
    },
    {
      "cell_type": "code",
      "source": [
        "#Implemention of mathematical operations of arrays\n",
        "import numpy as np\n",
        "arr1=np.array([10,11,12,13,14,15])\n",
        "arr2=np.array([100,200,300,400,500,600])\n",
        "arr3 = arr1*arr2\n",
        "arr4 = arr1/arr2\n",
        "arr5 = arr2**arr1\n",
        "arr6 = arr1**arr2\n",
        "print('The product array is ',arr3)\n",
        "print('The division array is ',arr4)\n",
        "print('The power off array is ',arr5)\n",
        "print('The another power off array is ',arr6)\n",
        ""
      ],
      "metadata": {
        "colab": {
          "base_uri": "https://localhost:8080/"
        },
        "id": "lBWCVdW_Fw9j",
        "outputId": "66ebbc6b-296e-4f85-ec40-87410e3aaf71"
      },
      "execution_count": 5,
      "outputs": [
        {
          "output_type": "stream",
          "name": "stdout",
          "text": [
            "The product array is  [1000 2200 3600 5200 7000 9000]\n",
            "The division array is  [0.1    0.055  0.04   0.0325 0.028  0.025 ]\n",
            "The power off array is  [ 7766279631452241920   454253960476229632  7257836327071121408\n",
            "  5444851949490929664  8958380283753660416 -5713836474110050304]\n",
            "The another power off array is  [                   0 -5759996431746818975                    0\n",
            " -1173800453883803071                    0 -3872214443626246527]\n"
          ]
        }
      ]
    },
    {
      "cell_type": "code",
      "source": [
        "#Implemention of Addition between two arrays\n",
        "import numpy as np\n",
        "arr1=np.array([10,20,30,40,50])\n",
        "arr2=np.array([15,25,35,45,55])\n",
        "arr3 = arr1+arr2\n",
        "print('The Sum of arrays is ',arr3)"
      ],
      "metadata": {
        "colab": {
          "base_uri": "https://localhost:8080/"
        },
        "id": "uxDO0h27F17Q",
        "outputId": "f1d31e09-0042-4cf9-9298-56c4328acd99"
      },
      "execution_count": 6,
      "outputs": [
        {
          "output_type": "stream",
          "name": "stdout",
          "text": [
            "The Sum of arrays is  [ 25  45  65  85 105]\n"
          ]
        }
      ]
    },
    {
      "cell_type": "code",
      "source": [
        "#Demonstration of entire age list of a factory employee\n",
        "import numpy as np\n",
        "employee=np.array([25,70,64,35,30,36,50,28,59,48,44,57,60,40,41,32,29,51,38,54])\n",
        "senior = employee[employee >= 60]\n",
        "junior = employee[employee < 60]\n",
        "print('Senior employee list : ',senior)\n",
        "print('Junior employee list : ',junior)"
      ],
      "metadata": {
        "colab": {
          "base_uri": "https://localhost:8080/"
        },
        "id": "iGJhM1fIF6UV",
        "outputId": "fffe8b9d-4127-409b-bfad-0244550c0a7d"
      },
      "execution_count": 7,
      "outputs": [
        {
          "output_type": "stream",
          "name": "stdout",
          "text": [
            "Senior employee list :  [70 64 60]\n",
            "Junior employee list :  [25 35 30 36 50 28 59 48 44 57 40 41 32 29 51 38 54]\n"
          ]
        }
      ]
    },
    {
      "cell_type": "code",
      "source": [
        "#Demostration of Sin, Cos, Tan, log, exp, log2\n",
        "import numpy as np\n",
        "lst = [10,20,30,40,50]\n",
        "arr1 = np.array(lst)\n",
        "arr2 = np.sin(arr1)\n",
        "arr3 = np.cos(arr1)\n",
        "arr4 = np.tan(arr1)\n",
        "arr5 = np.log(arr1)\n",
        "arr6 = np.log2(arr1)\n",
        "arr7 = np.exp(arr1)\n",
        "print('The sin array is ',arr2)\n",
        "print('The cos array is ',arr3)\n",
        "print('The tan array is ',arr4)\n",
        "print('The logarithmic array is ',arr5)\n",
        "print('The log2 array is ',arr6)\n",
        "print('The exp array is ',arr7)"
      ],
      "metadata": {
        "colab": {
          "base_uri": "https://localhost:8080/"
        },
        "id": "H7S8legsF9C-",
        "outputId": "eacc4b0b-22a4-462a-c343-2574dde9896f"
      },
      "execution_count": 8,
      "outputs": [
        {
          "output_type": "stream",
          "name": "stdout",
          "text": [
            "The sin array is  [-0.54402111  0.91294525 -0.98803162  0.74511316 -0.26237485]\n",
            "The cos array is  [-0.83907153  0.40808206  0.15425145 -0.66693806  0.96496603]\n",
            "The tan array is  [ 0.64836083  2.23716094 -6.4053312  -1.11721493 -0.27190061]\n",
            "The logarithmic array is  [2.30258509 2.99573227 3.40119738 3.68887945 3.91202301]\n",
            "The log2 array is  [3.32192809 4.32192809 4.9068906  5.32192809 5.64385619]\n",
            "The exp array is  [2.20264658e+04 4.85165195e+08 1.06864746e+13 2.35385267e+17\n",
            " 5.18470553e+21]\n"
          ]
        }
      ]
    }
  ]
}